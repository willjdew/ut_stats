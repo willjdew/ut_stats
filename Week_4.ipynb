{
 "cells": [
  {
   "cell_type": "markdown",
   "metadata": {},
   "source": [
    "# Week 4: Bivariate Distributions"
   ]
  },
  {
   "cell_type": "markdown",
   "metadata": {},
   "source": [
    "Known as the “Live Music Capital of the World,” Austin, Texas is also home to the longest-running music series in American television history, Austin City Limits.  This dataset includes data on a sample of musicians that performed live on the PBS television series Austin City Limits over the last 10 years.  Data on each artist include measures of commercial popularity, such as the number of social media followers on Twitter or Facebook, and their success in winning a Grammy Music Award. "
   ]
  },
  {
   "cell_type": "code",
   "execution_count": 1,
   "metadata": {
    "collapsed": true
   },
   "outputs": [],
   "source": [
    "import pandas as pd\n",
    "import numpy as np\n",
    "import matplotlib.pyplot as plt\n",
    "\n",
    "acl = pd.read_csv(\"AustinCityLimits.csv\")"
   ]
  },
  {
   "cell_type": "code",
   "execution_count": 2,
   "metadata": {
    "scrolled": true
   },
   "outputs": [
    {
     "data": {
      "text/html": [
       "<div>\n",
       "<style>\n",
       "    .dataframe thead tr:only-child th {\n",
       "        text-align: right;\n",
       "    }\n",
       "\n",
       "    .dataframe thead th {\n",
       "        text-align: left;\n",
       "    }\n",
       "\n",
       "    .dataframe tbody tr th {\n",
       "        vertical-align: top;\n",
       "    }\n",
       "</style>\n",
       "<table border=\"1\" class=\"dataframe\">\n",
       "  <thead>\n",
       "    <tr style=\"text-align: right;\">\n",
       "      <th></th>\n",
       "      <th>Unnamed: 0</th>\n",
       "      <th>Artist</th>\n",
       "      <th>Year</th>\n",
       "      <th>Month</th>\n",
       "      <th>Season</th>\n",
       "      <th>Gender</th>\n",
       "      <th>Age</th>\n",
       "      <th>Age.Group</th>\n",
       "      <th>Grammy</th>\n",
       "      <th>Genre</th>\n",
       "      <th>BB.wk.top10</th>\n",
       "      <th>Twitter</th>\n",
       "      <th>Twitter.100k</th>\n",
       "      <th>Facebook</th>\n",
       "      <th>Facebook.100k</th>\n",
       "    </tr>\n",
       "  </thead>\n",
       "  <tbody>\n",
       "    <tr>\n",
       "      <th>0</th>\n",
       "      <td>1</td>\n",
       "      <td>Aimee Mann</td>\n",
       "      <td>2008</td>\n",
       "      <td>November</td>\n",
       "      <td>fall</td>\n",
       "      <td>F</td>\n",
       "      <td>52</td>\n",
       "      <td>Fifties or Older</td>\n",
       "      <td>Y</td>\n",
       "      <td>Singer-Songwriter</td>\n",
       "      <td>0.0</td>\n",
       "      <td>101870.0</td>\n",
       "      <td>1.0</td>\n",
       "      <td>113576</td>\n",
       "      <td>1</td>\n",
       "    </tr>\n",
       "    <tr>\n",
       "      <th>1</th>\n",
       "      <td>2</td>\n",
       "      <td>Alabama Shakes</td>\n",
       "      <td>2013</td>\n",
       "      <td>February</td>\n",
       "      <td>winter</td>\n",
       "      <td>F</td>\n",
       "      <td>24</td>\n",
       "      <td>Twenties</td>\n",
       "      <td>N</td>\n",
       "      <td>Rock/Folk/Indie</td>\n",
       "      <td>1.0</td>\n",
       "      <td>73313.0</td>\n",
       "      <td>0.0</td>\n",
       "      <td>298278</td>\n",
       "      <td>1</td>\n",
       "    </tr>\n",
       "    <tr>\n",
       "      <th>2</th>\n",
       "      <td>3</td>\n",
       "      <td>Allen Toussaint</td>\n",
       "      <td>2009</td>\n",
       "      <td>January</td>\n",
       "      <td>winter</td>\n",
       "      <td>M</td>\n",
       "      <td>75</td>\n",
       "      <td>Fifties or Older</td>\n",
       "      <td>N</td>\n",
       "      <td>Jazz/Blues</td>\n",
       "      <td>NaN</td>\n",
       "      <td>308634.0</td>\n",
       "      <td>1.0</td>\n",
       "      <td>10721</td>\n",
       "      <td>0</td>\n",
       "    </tr>\n",
       "    <tr>\n",
       "      <th>3</th>\n",
       "      <td>4</td>\n",
       "      <td>Andrew Bird</td>\n",
       "      <td>2009</td>\n",
       "      <td>October</td>\n",
       "      <td>fall</td>\n",
       "      <td>M</td>\n",
       "      <td>39</td>\n",
       "      <td>Thirties</td>\n",
       "      <td>N</td>\n",
       "      <td>Rock/Folk/Indie</td>\n",
       "      <td>1.0</td>\n",
       "      <td>56343.0</td>\n",
       "      <td>0.0</td>\n",
       "      <td>318313</td>\n",
       "      <td>1</td>\n",
       "    </tr>\n",
       "    <tr>\n",
       "      <th>4</th>\n",
       "      <td>5</td>\n",
       "      <td>Arcade Fire</td>\n",
       "      <td>2007</td>\n",
       "      <td>November</td>\n",
       "      <td>fall</td>\n",
       "      <td>F</td>\n",
       "      <td>33</td>\n",
       "      <td>Thirties</td>\n",
       "      <td>Y</td>\n",
       "      <td>Rock/Folk/Indie</td>\n",
       "      <td>1.0</td>\n",
       "      <td>404439.0</td>\n",
       "      <td>1.0</td>\n",
       "      <td>1711685</td>\n",
       "      <td>1</td>\n",
       "    </tr>\n",
       "  </tbody>\n",
       "</table>\n",
       "</div>"
      ],
      "text/plain": [
       "   Unnamed: 0           Artist  Year     Month  Season Gender  Age  \\\n",
       "0           1       Aimee Mann  2008  November    fall      F   52   \n",
       "1           2   Alabama Shakes  2013  February  winter      F   24   \n",
       "2           3  Allen Toussaint  2009   January  winter      M   75   \n",
       "3           4      Andrew Bird  2009   October    fall      M   39   \n",
       "4           5      Arcade Fire  2007  November    fall      F   33   \n",
       "\n",
       "          Age.Group Grammy              Genre  BB.wk.top10   Twitter  \\\n",
       "0  Fifties or Older      Y  Singer-Songwriter          0.0  101870.0   \n",
       "1          Twenties      N    Rock/Folk/Indie          1.0   73313.0   \n",
       "2  Fifties or Older      N         Jazz/Blues          NaN  308634.0   \n",
       "3          Thirties      N    Rock/Folk/Indie          1.0   56343.0   \n",
       "4          Thirties      Y    Rock/Folk/Indie          1.0  404439.0   \n",
       "\n",
       "   Twitter.100k  Facebook  Facebook.100k  \n",
       "0           1.0    113576              1  \n",
       "1           0.0    298278              1  \n",
       "2           1.0     10721              0  \n",
       "3           0.0    318313              1  \n",
       "4           1.0   1711685              1  "
      ]
     },
     "execution_count": 2,
     "metadata": {},
     "output_type": "execute_result"
    }
   ],
   "source": [
    "acl.head()"
   ]
  },
  {
   "cell_type": "markdown",
   "metadata": {},
   "source": [
    "## Pre Lab"
   ]
  },
  {
   "cell_type": "markdown",
   "metadata": {},
   "source": [
    "What genre was played by the first female artist in the dataset who was over 60 years of age? Match the case of the genre as it appears in the dataset."
   ]
  },
  {
   "cell_type": "code",
   "execution_count": 3,
   "metadata": {},
   "outputs": [
    {
     "data": {
      "text/plain": [
       "9     Jazz/Blues\n",
       "16       Country\n",
       "58       Country\n",
       "Name: Genre, dtype: object"
      ]
     },
     "execution_count": 3,
     "metadata": {},
     "output_type": "execute_result"
    }
   ],
   "source": [
    "female_acl = acl[(acl[\"Gender\"] == \"F\") & (acl[\"Age\"] > 60)]\n",
    "female_acl[\"Genre\"]"
   ]
  },
  {
   "cell_type": "markdown",
   "metadata": {},
   "source": [
    "### Primary Question\n",
    "For artists age 30 or older, do female artists play different kinds of music on Austin City Limits than male artists?"
   ]
  },
  {
   "cell_type": "markdown",
   "metadata": {},
   "source": [
    "Create a subset of the data for artists age 30 or older."
   ]
  },
  {
   "cell_type": "code",
   "execution_count": 4,
   "metadata": {
    "collapsed": true
   },
   "outputs": [],
   "source": [
    "older = acl[acl[\"Age\"] >= 30]"
   ]
  },
  {
   "cell_type": "markdown",
   "metadata": {},
   "source": [
    "Create a table to show the marginal distribution for each variable. \n",
    "Create a contingency table to show the conditional distribution for gender and genre."
   ]
  },
  {
   "cell_type": "code",
   "execution_count": 5,
   "metadata": {
    "scrolled": true
   },
   "outputs": [
    {
     "data": {
      "text/plain": [
       "Gender  Genre            \n",
       "F       Rock/Folk/Indie       8\n",
       "        Singer-Songwriter     7\n",
       "        Country               6\n",
       "        Jazz/Blues            4\n",
       "M       Rock/Folk/Indie      53\n",
       "        Country              11\n",
       "        Jazz/Blues            7\n",
       "        Singer-Songwriter     6\n",
       "Name: Genre, dtype: int64"
      ]
     },
     "execution_count": 5,
     "metadata": {},
     "output_type": "execute_result"
    }
   ],
   "source": [
    "older.groupby('Gender')['Genre'].value_counts()"
   ]
  },
  {
   "cell_type": "markdown",
   "metadata": {},
   "source": [
    "Make a bar chart to better visualize how many male and female artists played in each genre."
   ]
  },
  {
   "cell_type": "code",
   "execution_count": 6,
   "metadata": {
    "scrolled": false
   },
   "outputs": [
    {
     "data": {
      "image/png": "[encoded data removed]",
      "text/plain": [
       "<matplotlib.figure.Figure at 0x7b372b0>"
      ]
     },
     "metadata": {},
     "output_type": "display_data"
    }
   ],
   "source": [
    "older.groupby('Gender')['Genre'].value_counts().unstack(0).plot.bar()\n",
    "plt.show()"
   ]
  },
  {
   "cell_type": "markdown",
   "metadata": {},
   "source": [
    "Calculate P(A):  the probability of each type of music (genre) being played."
   ]
  },
  {
   "cell_type": "code",
   "execution_count": 7,
   "metadata": {
    "scrolled": true
   },
   "outputs": [
    {
     "data": {
      "text/plain": [
       "Genre\n",
       "Country              0.166667\n",
       "Jazz/Blues           0.107843\n",
       "Rock/Folk/Indie      0.598039\n",
       "Singer-Songwriter    0.127451\n",
       "dtype: float64"
      ]
     },
     "execution_count": 7,
     "metadata": {},
     "output_type": "execute_result"
    }
   ],
   "source": [
    "older.groupby('Genre').size().div(len(older))"
   ]
  },
  {
   "cell_type": "markdown",
   "metadata": {},
   "source": [
    "Calculate P(A|B):  the probability of each genre, given the artist’s gender."
   ]
  },
  {
   "cell_type": "code",
   "execution_count": 8,
   "metadata": {
    "scrolled": true
   },
   "outputs": [
    {
     "data": {
      "text/plain": [
       "Gender  Genre            \n",
       "F       Rock/Folk/Indie      0.078431\n",
       "        Singer-Songwriter    0.068627\n",
       "        Country              0.058824\n",
       "        Jazz/Blues           0.039216\n",
       "M       Rock/Folk/Indie      0.519608\n",
       "        Country              0.107843\n",
       "        Jazz/Blues           0.068627\n",
       "        Singer-Songwriter    0.058824\n",
       "Name: Genre, dtype: float64"
      ]
     },
     "execution_count": 8,
     "metadata": {},
     "output_type": "execute_result"
    }
   ],
   "source": [
    "older.groupby('Gender')['Genre'].value_counts().div(len(older))"
   ]
  },
  {
   "cell_type": "markdown",
   "metadata": {},
   "source": [
    "Interpret what these probabilities tell us about the relationship between genre and gender. "
   ]
  },
  {
   "cell_type": "markdown",
   "metadata": {},
   "source": [
    "1. How many male artists are in the 30+ year old artist subset of the Austin City Limits dataset?\n",
    "2. How many female artists are in the 30+ year old artist subset of the Austin City Limits dataset?"
   ]
  },
  {
   "cell_type": "code",
   "execution_count": 9,
   "metadata": {},
   "outputs": [
    {
     "data": {
      "text/plain": [
       "M    77\n",
       "F    25\n",
       "Name: Gender, dtype: int64"
      ]
     },
     "execution_count": 9,
     "metadata": {},
     "output_type": "execute_result"
    }
   ],
   "source": [
    "older['Gender'].value_counts()"
   ]
  },
  {
   "cell_type": "markdown",
   "metadata": {},
   "source": [
    "To determine the proportion of jazz performers that were male, you would divide ________ by ________."
   ]
  },
  {
   "cell_type": "code",
   "execution_count": 13,
   "metadata": {},
   "outputs": [
    {
     "name": "stdout",
     "output_type": "stream",
     "text": [
      "7.0 by 11.0\n"
     ]
    },
    {
     "data": {
      "text/plain": [
       "0.6363636363636364"
      ]
     },
     "execution_count": 13,
     "metadata": {},
     "output_type": "execute_result"
    }
   ],
   "source": [
    "male_jazz = older['Artist'][(older['Genre'] == \"Jazz/Blues\") & (older['Gender'] == 'M')].count()\n",
    "male_jazz = float(male_jazz)\n",
    "jazz = older['Artist'][older['Genre'] == \"Jazz/Blues\"].count()\n",
    "jazz = float(jazz)\n",
    "print male_jazz, 'by', jazz\n",
    "male_jazz / jazz"
   ]
  },
  {
   "cell_type": "markdown",
   "metadata": {},
   "source": [
    "To determine the proportion of males that performed jazz, you would divide ________ by ________. "
   ]
  },
  {
   "cell_type": "code",
   "execution_count": 14,
   "metadata": {},
   "outputs": [
    {
     "name": "stdout",
     "output_type": "stream",
     "text": [
      "7.0 by 77.0\n"
     ]
    },
    {
     "data": {
      "text/plain": [
       "0.09090909090909091"
      ]
     },
     "execution_count": 14,
     "metadata": {},
     "output_type": "execute_result"
    }
   ],
   "source": [
    "male = older['Artist'][older['Gender'] == 'M'].count()\n",
    "male = float(male)\n",
    "print male_jazz, 'by', male\n",
    "male_jazz / male"
   ]
  },
  {
   "cell_type": "markdown",
   "metadata": {},
   "source": [
    "How many artists performed rock/folk/indie music?"
   ]
  },
  {
   "cell_type": "code",
   "execution_count": 15,
   "metadata": {},
   "outputs": [
    {
     "data": {
      "text/plain": [
       "61.0"
      ]
     },
     "execution_count": 15,
     "metadata": {},
     "output_type": "execute_result"
    }
   ],
   "source": [
    "rfi_artist = older['Artist'][older['Genre'] == \"Rock/Folk/Indie\"].count()\n",
    "rfi_artist = float(rfi_artist)\n",
    "rfi_artist"
   ]
  },
  {
   "cell_type": "markdown",
   "metadata": {},
   "source": [
    "What is the probability that a randomly selected artist from the dataset performed rock/folk/indie music?"
   ]
  },
  {
   "cell_type": "code",
   "execution_count": 16,
   "metadata": {},
   "outputs": [
    {
     "data": {
      "text/plain": [
       "0.5980392156862745"
      ]
     },
     "execution_count": 16,
     "metadata": {},
     "output_type": "execute_result"
    }
   ],
   "source": [
    "total_artist = older['Artist'].count()\n",
    "total_artist = float(total_artist)\n",
    "rfi_artist / total_artist"
   ]
  },
  {
   "cell_type": "markdown",
   "metadata": {},
   "source": [
    "What is the probability that a randomly selected female artist performed rock/folk/indie music?"
   ]
  },
  {
   "cell_type": "code",
   "execution_count": 17,
   "metadata": {},
   "outputs": [
    {
     "data": {
      "text/plain": [
       "0.32"
      ]
     },
     "execution_count": 17,
     "metadata": {},
     "output_type": "execute_result"
    }
   ],
   "source": [
    "female = older['Artist'][older['Gender'] == 'F'].count()\n",
    "female = float(female)\n",
    "female_rfi = older['Artist'][(older['Gender'] == 'F') & (older['Genre'] == 'Rock/Folk/Indie')].count()\n",
    "female_rfi = float(female_rfi)\n",
    "female_rfi / female"
   ]
  },
  {
   "cell_type": "markdown",
   "metadata": {},
   "source": [
    "### Conclusions\n",
    "The music played on Austin City Limits was grouped into four genres, including Country, Jazz, Rock and Singer-Songwriter. We wanted to examine only those artists who were age 30 or older.  Rock was the most frequently played genre, performed by 59.8 % of the Austin City Limits artists. Among female artists, however, only 32.0 % of the artists played Rock music. This difference between the marginal and conditional probabilities suggests that gender and genre are not independent. This difference was also evident in the bar plots, where it was evident that females were more likely to perform in the Singer-Songwriter category than their male counterparts."
   ]
  }
 ],
 "metadata": {
  "kernelspec": {
   "display_name": "Python 2",
   "language": "python",
   "name": "python2"
  },
  "language_info": {
   "codemirror_mode": {
    "name": "ipython",
    "version": 2
   },
   "file_extension": ".py",
   "mimetype": "text/x-python",
   "name": "python",
   "nbconvert_exporter": "python",
   "pygments_lexer": "ipython2",
   "version": "2.7.14"
  }
 },
 "nbformat": 4,
 "nbformat_minor": 2
}
